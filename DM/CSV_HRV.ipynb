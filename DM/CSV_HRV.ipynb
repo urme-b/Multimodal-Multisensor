{
 "cells": [
  {
   "cell_type": "code",
   "execution_count": 5,
   "id": "e12a3de3-d0ba-4103-b55b-4b4420f17041",
   "metadata": {
    "tags": []
   },
   "outputs": [
    {
     "name": "stdout",
     "output_type": "stream",
     "text": [
      "SDNN: 36.23 ms\n",
      "RMSSD: 42.83 ms\n"
     ]
    }
   ],
   "source": [
    "import pandas as pd\n",
    "\n",
    "# Load the HR and IBI data\n",
    "hr_data = pd.read_csv('/Users/urmebose/Desktop/DM/hr_01.csv')\n",
    "ibi_data = pd.read_csv('/Users/urmebose/Desktop/DM/ibi_01.csv')\n",
    "\n",
    "# Merge the HR and IBI dataframes on 'reltime' and 'datetime'\n",
    "combined_data = pd.merge(hr_data, ibi_data, on=['reltime', 'datetime', 'iSensor'], suffixes=('_hr', '_ibi'))\n",
    "\n",
    "# Filter out rows where IBI is zero as they are not valid for HRV calculations\n",
    "valid_ibi_data = combined_data[combined_data['ibi'] > 0]\n",
    "\n",
    "# Calculate HRV metrics: SDNN and RMSSD\n",
    "def calculate_hrv_metrics(ibi_series):\n",
    "    # SDNN (Standard Deviation of NN intervals)\n",
    "    sdnn = ibi_series.std()\n",
    "\n",
    "    # RMSSD (Root Mean Square of Successive Differences)\n",
    "    ibi_diff = ibi_series.diff().dropna()\n",
    "    rmssd = (ibi_diff ** 2).mean() ** 0.5\n",
    "\n",
    "    return sdnn, rmssd\n",
    "\n",
    "sdnn, rmssd = calculate_hrv_metrics(valid_ibi_data['ibi'])\n",
    "\n",
    "# Create a new dataframe for HRV metrics with the same reltime and datetime\n",
    "hrv_data = valid_ibi_data[['reltime', 'datetime']].copy()\n",
    "hrv_data['sdnn'] = sdnn\n",
    "hrv_data['rmssd'] = rmssd\n",
    "\n",
    "# Save the HRV data to a new CSV file\n",
    "hrv_data.to_csv('/Users/urmebose/Desktop/DM/hrv_01.csv', index=False)\n",
    "\n",
    "# Print the HRV metrics\n",
    "print(f'SDNN: {sdnn:.2f} ms')\n",
    "print(f'RMSSD: {rmssd:.2f} ms')"
   ]
  },
  {
   "cell_type": "code",
   "execution_count": 8,
   "id": "10ce9ef4-c3f2-4d52-a7bd-562a5bc6425f",
   "metadata": {
    "tags": []
   },
   "outputs": [
    {
     "name": "stdout",
     "output_type": "stream",
     "text": [
      "SDNN: 29.91 ms\n",
      "RMSSD: 26.76 ms\n"
     ]
    }
   ],
   "source": [
    "import pandas as pd\n",
    "\n",
    "# Load the HR and IBI data\n",
    "hr_data = pd.read_csv('/Users/urmebose/Desktop/DM/hr_02.csv')\n",
    "ibi_data = pd.read_csv('/Users/urmebose/Desktop/DM/ibi_02.csv')\n",
    "\n",
    "# Merge the HR and IBI dataframes on 'reltime' and 'datetime'\n",
    "combined_data = pd.merge(hr_data, ibi_data, on=['reltime', 'datetime', 'iSensor'], suffixes=('_hr', '_ibi'))\n",
    "\n",
    "# Filter out rows where IBI is zero as they are not valid for HRV calculations\n",
    "valid_ibi_data = combined_data[combined_data['ibi'] > 0]\n",
    "\n",
    "# Calculate HRV metrics: SDNN and RMSSD\n",
    "def calculate_hrv_metrics(ibi_series):\n",
    "    # SDNN (Standard Deviation of NN intervals)\n",
    "    sdnn = ibi_series.std()\n",
    "\n",
    "    # RMSSD (Root Mean Square of Successive Differences)\n",
    "    ibi_diff = ibi_series.diff().dropna()\n",
    "    rmssd = (ibi_diff ** 2).mean() ** 0.5\n",
    "\n",
    "    return sdnn, rmssd\n",
    "\n",
    "sdnn, rmssd = calculate_hrv_metrics(valid_ibi_data['ibi'])\n",
    "\n",
    "# Create a new dataframe for HRV metrics with the same reltime and datetime\n",
    "hrv_data = valid_ibi_data[['reltime', 'datetime']].copy()\n",
    "hrv_data['sdnn'] = sdnn\n",
    "hrv_data['rmssd'] = rmssd\n",
    "\n",
    "# Save the HRV data to a new CSV file\n",
    "hrv_data.to_csv('/Users/urmebose/Desktop/DM/hrv_02.csv', index=False)\n",
    "\n",
    "# Print the HRV metrics\n",
    "print(f'SDNN: {sdnn:.2f} ms')\n",
    "print(f'RMSSD: {rmssd:.2f} ms')"
   ]
  },
  {
   "cell_type": "code",
   "execution_count": 10,
   "id": "9fa44d3e-3e6f-4266-8fb9-7db489e41dcd",
   "metadata": {
    "tags": []
   },
   "outputs": [
    {
     "name": "stdout",
     "output_type": "stream",
     "text": [
      "SDNN: 30.75 ms\n",
      "RMSSD: 36.53 ms\n"
     ]
    }
   ],
   "source": [
    "import pandas as pd\n",
    "\n",
    "# Load the HR and IBI data\n",
    "hr_data = pd.read_csv('/Users/urmebose/Desktop/DM/hr_03.csv')\n",
    "ibi_data = pd.read_csv('/Users/urmebose/Desktop/DM/ibi_03.csv')\n",
    "\n",
    "# Merge the HR and IBI dataframes on 'reltime' and 'datetime'\n",
    "combined_data = pd.merge(hr_data, ibi_data, on=['reltime', 'datetime', 'iSensor'], suffixes=('_hr', '_ibi'))\n",
    "\n",
    "# Filter out rows where IBI is zero as they are not valid for HRV calculations\n",
    "valid_ibi_data = combined_data[combined_data['ibi'] > 0]\n",
    "\n",
    "# Calculate HRV metrics: SDNN and RMSSD\n",
    "def calculate_hrv_metrics(ibi_series):\n",
    "    # SDNN (Standard Deviation of NN intervals)\n",
    "    sdnn = ibi_series.std()\n",
    "\n",
    "    # RMSSD (Root Mean Square of Successive Differences)\n",
    "    ibi_diff = ibi_series.diff().dropna()\n",
    "    rmssd = (ibi_diff ** 2).mean() ** 0.5\n",
    "\n",
    "    return sdnn, rmssd\n",
    "\n",
    "sdnn, rmssd = calculate_hrv_metrics(valid_ibi_data['ibi'])\n",
    "\n",
    "# Create a new dataframe for HRV metrics with the same reltime and datetime\n",
    "hrv_data = valid_ibi_data[['reltime', 'datetime']].copy()\n",
    "hrv_data['sdnn'] = sdnn\n",
    "hrv_data['rmssd'] = rmssd\n",
    "\n",
    "# Save the HRV data to a new CSV file\n",
    "hrv_data.to_csv('/Users/urmebose/Desktop/DM/hrv_03.csv', index=False)\n",
    "\n",
    "# Print the HRV metrics\n",
    "print(f'SDNN: {sdnn:.2f} ms')\n",
    "print(f'RMSSD: {rmssd:.2f} ms')"
   ]
  },
  {
   "cell_type": "code",
   "execution_count": 12,
   "id": "708fe4d2-13a9-4904-9d74-f7b97df85efc",
   "metadata": {
    "tags": []
   },
   "outputs": [
    {
     "name": "stdout",
     "output_type": "stream",
     "text": [
      "SDNN: 28.63 ms\n",
      "RMSSD: 30.08 ms\n"
     ]
    }
   ],
   "source": [
    "import pandas as pd\n",
    "\n",
    "# Load the HR and IBI data\n",
    "hr_data = pd.read_csv('/Users/urmebose/Desktop/DM/hr.csv')\n",
    "ibi_data = pd.read_csv('/Users/urmebose/Desktop/DM/ibi.csv')\n",
    "\n",
    "# Merge the HR and IBI dataframes on 'reltime' and 'datetime'\n",
    "combined_data = pd.merge(hr_data, ibi_data, on=['reltime', 'datetime', 'iSensor'], suffixes=('_hr', '_ibi'))\n",
    "\n",
    "# Filter out rows where IBI is zero as they are not valid for HRV calculations\n",
    "valid_ibi_data = combined_data[combined_data['ibi'] > 0]\n",
    "\n",
    "# Calculate HRV metrics: SDNN and RMSSD\n",
    "def calculate_hrv_metrics(ibi_series):\n",
    "    # SDNN (Standard Deviation of NN intervals)\n",
    "    sdnn = ibi_series.std()\n",
    "\n",
    "    # RMSSD (Root Mean Square of Successive Differences)\n",
    "    ibi_diff = ibi_series.diff().dropna()\n",
    "    rmssd = (ibi_diff ** 2).mean() ** 0.5\n",
    "\n",
    "    return sdnn, rmssd\n",
    "\n",
    "sdnn, rmssd = calculate_hrv_metrics(valid_ibi_data['ibi'])\n",
    "\n",
    "# Create a new dataframe for HRV metrics with the same reltime and datetime\n",
    "hrv_data = valid_ibi_data[['reltime', 'datetime']].copy()\n",
    "hrv_data['sdnn'] = sdnn\n",
    "hrv_data['rmssd'] = rmssd\n",
    "\n",
    "# Save the HRV data to a new CSV file\n",
    "hrv_data.to_csv('/Users/urmebose/Desktop/DM/hrv.csv', index=False)\n",
    "\n",
    "# Print the HRV metrics\n",
    "print(f'SDNN: {sdnn:.2f} ms')\n",
    "print(f'RMSSD: {rmssd:.2f} ms')"
   ]
  },
  {
   "cell_type": "code",
   "execution_count": null,
   "id": "edb75a8c-b187-4b83-b697-b72b17143ac7",
   "metadata": {},
   "outputs": [],
   "source": []
  }
 ],
 "metadata": {
  "kernelspec": {
   "display_name": "pdf_processing",
   "language": "python",
   "name": "pdf_processing"
  },
  "language_info": {
   "codemirror_mode": {
    "name": "ipython",
    "version": 3
   },
   "file_extension": ".py",
   "mimetype": "text/x-python",
   "name": "python",
   "nbconvert_exporter": "python",
   "pygments_lexer": "ipython3",
   "version": "3.9.21"
  }
 },
 "nbformat": 4,
 "nbformat_minor": 5
}
