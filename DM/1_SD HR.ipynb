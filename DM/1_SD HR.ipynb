{
 "cells": [
  {
   "cell_type": "code",
   "execution_count": 2,
   "id": "4065e5d8-1fad-4496-aba0-086d4ccad315",
   "metadata": {},
   "outputs": [
    {
     "name": "stdout",
     "output_type": "stream",
     "text": [
      "                Test  Average HR  Standard Deviation HR\n",
      "0  Psychometric Test   96.007738               5.146476\n",
      "1      Baseline Test   99.203989               3.922237\n"
     ]
    }
   ],
   "source": [
    "import pandas as pd\n",
    "import numpy as np\n",
    "import matplotlib.pyplot as plt\n",
    "import seaborn as sns\n",
    "\n",
    "\n",
    "# Load the data from both tests\n",
    "hr_psychometric = pd.read_csv('/Users/urmebose/Desktop/DM/hr_01.csv')\n",
    "hr_baseline = pd.read_csv('/Users/urmebose/Desktop/DM/hr.csv')\n",
    "\n",
    "# Filter data for high confidence readings (assuming confidence threshold to consider is 1.0)\n",
    "hr_psychometric_high_conf = hr_psychometric[hr_psychometric['confidence'] == 1.0]\n",
    "hr_baseline_high_conf = hr_baseline[hr_baseline['confidence'] == 1.0]\n",
    "\n",
    "# Calculate overall average and standard deviation for each test\n",
    "overall_avg_hr_psychometric = hr_psychometric_high_conf['heart_rate'].mean()\n",
    "overall_sd_hr_psychometric = hr_psychometric_high_conf['heart_rate'].std()\n",
    "\n",
    "overall_avg_hr_baseline = hr_baseline_high_conf['heart_rate'].mean()\n",
    "overall_sd_hr_baseline = hr_baseline_high_conf['heart_rate'].std()\n",
    "\n",
    "# Create a DataFrame to display statistics for both tests\n",
    "combined_stats_df = pd.DataFrame({\n",
    "    'Test': ['Psychometric Test', 'Baseline Test'],\n",
    "    'Average HR': [overall_avg_hr_psychometric, overall_avg_hr_baseline],\n",
    "    'Standard Deviation HR': [overall_sd_hr_psychometric, overall_sd_hr_baseline]\n",
    "})\n",
    "\n",
    "# Display the resulting DataFrame\n",
    "print(combined_stats_df)"
   ]
  },
  {
   "cell_type": "code",
   "execution_count": null,
   "id": "8c84b761-a592-4d86-a289-73c0e8be0e92",
   "metadata": {},
   "outputs": [],
   "source": []
  }
 ],
 "metadata": {
  "kernelspec": {
   "display_name": "pdf_processing",
   "language": "python",
   "name": "pdf_processing"
  },
  "language_info": {
   "codemirror_mode": {
    "name": "ipython",
    "version": 3
   },
   "file_extension": ".py",
   "mimetype": "text/x-python",
   "name": "python",
   "nbconvert_exporter": "python",
   "pygments_lexer": "ipython3",
   "version": "3.9.21"
  }
 },
 "nbformat": 4,
 "nbformat_minor": 5
}
