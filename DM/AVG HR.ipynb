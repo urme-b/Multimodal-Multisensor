{
 "cells": [
  {
   "cell_type": "code",
   "execution_count": 1,
   "id": "e972a24c-b4d6-468e-891c-371d28f5a8d0",
   "metadata": {},
   "outputs": [
    {
     "name": "stdout",
     "output_type": "stream",
     "text": [
      "Baseline Average HR: 63.74 BPM - Normal\n",
      "Season 1 Average HR: 96.01 BPM - Anxiety\n",
      "Difference from Baseline in Season 1: 32.26 BPM\n",
      "Season 2 Average HR: 92.43 BPM - Anxiety\n",
      "Difference from Baseline in Season 2: 28.68 BPM\n",
      "Season 3 Average HR: 93.38 BPM - Anxiety\n",
      "Difference from Baseline in Season 3: 29.63 BPM\n"
     ]
    }
   ],
   "source": [
    "import pandas as pd\n",
    "\n",
    "# Load baseline HR data\n",
    "baseline_hr = pd.read_csv('/Users/urmebose/Desktop/DM/hr.csv')\n",
    "\n",
    "# Load HR data for all three seasons\n",
    "hr_01 = pd.read_csv('/Users/urmebose/Desktop/DM/hr_01.csv')\n",
    "hr_02 = pd.read_csv('/Users/urmebose/Desktop/DM/hr_02.csv')\n",
    "hr_03 = pd.read_csv('/Users/urmebose/Desktop/DM/hr_03.csv')\n",
    "\n",
    "# Function to clean HR data\n",
    "def clean_hr_data(hr_data):\n",
    "    hr_data_clean = hr_data[hr_data['confidence'] > 0]  # Filter out low-confidence measurements\n",
    "    return hr_data_clean\n",
    "\n",
    "# Clean the HR data\n",
    "baseline_hr_clean = clean_hr_data(baseline_hr)\n",
    "hr_01_clean = clean_hr_data(hr_01)\n",
    "hr_02_clean = clean_hr_data(hr_02)\n",
    "hr_03_clean = clean_hr_data(hr_03)\n",
    "\n",
    "# Calculate average heart rate for baseline and each season\n",
    "baseline_avg_hr = baseline_hr_clean['heart_rate'].mean()\n",
    "avg_hr_01 = hr_01_clean['heart_rate'].mean()\n",
    "avg_hr_02 = hr_02_clean['heart_rate'].mean()\n",
    "avg_hr_03 = hr_03_clean['heart_rate'].mean()\n",
    "\n",
    "# Calculate the difference between the baseline and each season's average HR\n",
    "hr_difference_01 = avg_hr_01 - baseline_avg_hr\n",
    "hr_difference_02 = avg_hr_02 - baseline_avg_hr\n",
    "hr_difference_03 = avg_hr_03 - baseline_avg_hr\n",
    "\n",
    "# Define anxiety threshold\n",
    "hr_anxiety_threshold = 90\n",
    "\n",
    "# Determine if the average HR for each season indicates anxiety\n",
    "anxiety_hr_baseline = baseline_avg_hr > hr_anxiety_threshold\n",
    "anxiety_hr_01 = avg_hr_01 > hr_anxiety_threshold\n",
    "anxiety_hr_02 = avg_hr_02 > hr_anxiety_threshold\n",
    "anxiety_hr_03 = avg_hr_03 > hr_anxiety_threshold\n",
    "\n",
    "# Display the results\n",
    "print(f'Baseline Average HR: {baseline_avg_hr:.2f} BPM - {\"Anxiety\" if anxiety_hr_baseline else \"Normal\"}')\n",
    "print(f'Season 1 Average HR: {avg_hr_01:.2f} BPM - {\"Anxiety\" if anxiety_hr_01 else \"Normal\"}')\n",
    "print(f'Difference from Baseline in Season 1: {hr_difference_01:.2f} BPM')\n",
    "print(f'Season 2 Average HR: {avg_hr_02:.2f} BPM - {\"Anxiety\" if anxiety_hr_02 else \"Normal\"}')\n",
    "print(f'Difference from Baseline in Season 2: {hr_difference_02:.2f} BPM')\n",
    "print(f'Season 3 Average HR: {avg_hr_03:.2f} BPM - {\"Anxiety\" if anxiety_hr_03 else \"Normal\"}')\n",
    "print(f'Difference from Baseline in Season 3: {hr_difference_03:.2f} BPM')"
   ]
  }
 ],
 "metadata": {
  "kernelspec": {
   "display_name": "pdf_processing",
   "language": "python",
   "name": "pdf_processing"
  },
  "language_info": {
   "codemirror_mode": {
    "name": "ipython",
    "version": 3
   },
   "file_extension": ".py",
   "mimetype": "text/x-python",
   "name": "python",
   "nbconvert_exporter": "python",
   "pygments_lexer": "ipython3",
   "version": "3.9.21"
  }
 },
 "nbformat": 4,
 "nbformat_minor": 5
}
