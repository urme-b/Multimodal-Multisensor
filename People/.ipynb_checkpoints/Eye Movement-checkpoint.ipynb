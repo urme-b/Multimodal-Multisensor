{
 "cells": [
  {
   "cell_type": "code",
   "execution_count": 3,
   "id": "c2901313-92da-47ad-8239-ad3baa85839c",
   "metadata": {},
   "outputs": [
    {
     "name": "stdout",
     "output_type": "stream",
     "text": [
      "Baseline Metrics:\n",
      "\n",
      "  Start Time: 2024-06-05 10:44:55.920900\n",
      "  End Time: 2024-06-05 10:46:42.806900\n",
      "  Total Duration: 1.78 minutes\n",
      "  Average Pupil Dilation: 2.51\n",
      "  Left Blink Rate: 15.72 blinks/min\n",
      "  Right Blink Rate: 16.84 blinks/min\n"
     ]
    }
   ],
   "source": [
    "import pandas as pd\n",
    "\n",
    "file_path = '/Users/urmebose/Desktop/People/Nuro/sed.csv'\n",
    "baseline_eye_tracking = pd.read_csv(file_path)\n",
    "\n",
    "baseline_eye_tracking.rename(columns={\n",
    "    'datetime': 'timestamp',\n",
    "    'pupil': 'pupil_dilation',\n",
    "    'leftEyeOpen': 'left_blink',\n",
    "    'rightEyeOpen': 'right_blink'\n",
    "}, inplace=True)\n",
    "\n",
    "\n",
    "baseline_eye_tracking['timestamp'] = pd.to_datetime(baseline_eye_tracking['timestamp'], errors='coerce').dt.tz_localize(None)\n",
    "baseline_eye_tracking = baseline_eye_tracking.dropna(subset=['timestamp'])\n",
    "\n",
    "# start and end times\n",
    "start_time = baseline_eye_tracking['timestamp'].min()\n",
    "end_time = baseline_eye_tracking['timestamp'].max()\n",
    "\n",
    "# Calculate the total duration\n",
    "total_duration_seconds = (end_time - start_time).total_seconds()\n",
    "total_duration_minutes = total_duration_seconds / 60\n",
    "\n",
    "# Calculate average pupil dilation\n",
    "average_pupil_dilation = baseline_eye_tracking['pupil_dilation'].mean()\n",
    "\n",
    "# Threshold to detect potential blinks (eye closed state)\n",
    "blink_detection_threshold = 1.0  # Threshold value to detect closed eyes\n",
    "\n",
    "# Detect potential blinks\n",
    "left_blink_count = ((baseline_eye_tracking['left_blink'] > blink_detection_threshold) & \n",
    "                    (baseline_eye_tracking['left_blink'].shift(-1) <= blink_detection_threshold)).sum()\n",
    "\n",
    "right_blink_count = ((baseline_eye_tracking['right_blink'] > blink_detection_threshold) & \n",
    "                     (baseline_eye_tracking['right_blink'].shift(-1) <= blink_detection_threshold)).sum()\n",
    "\n",
    "# Calculate blink rate per minute\n",
    "left_blink_rate = left_blink_count / total_duration_minutes\n",
    "right_blink_rate = right_blink_count / total_duration_minutes\n",
    "\n",
    "# Display the results clearly\n",
    "print(f\"Baseline Metrics:\\n\")\n",
    "print(f\"  Start Time: {start_time}\")\n",
    "print(f\"  End Time: {end_time}\")\n",
    "print(f\"  Total Duration: {total_duration_minutes:.2f} minutes\")\n",
    "print(f\"  Average Pupil Dilation: {average_pupil_dilation:.2f}\")\n",
    "print(f\"  Left Blink Rate: {left_blink_rate:.2f} blinks/min\")\n",
    "print(f\"  Right Blink Rate: {right_blink_rate:.2f} blinks/min\")"
   ]
  },
  {
   "cell_type": "code",
   "execution_count": null,
   "id": "65ae160c-07bb-43b2-abbb-8f26fcdc65e8",
   "metadata": {},
   "outputs": [],
   "source": []
  }
 ],
 "metadata": {
  "kernelspec": {
   "display_name": "Python 3 (ipykernel)",
   "language": "python",
   "name": "python3"
  },
  "language_info": {
   "codemirror_mode": {
    "name": "ipython",
    "version": 3
   },
   "file_extension": ".py",
   "mimetype": "text/x-python",
   "name": "python",
   "nbconvert_exporter": "python",
   "pygments_lexer": "ipython3",
   "version": "3.11.7"
  }
 },
 "nbformat": 4,
 "nbformat_minor": 5
}
