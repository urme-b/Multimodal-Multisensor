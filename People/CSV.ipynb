{
 "cells": [
  {
   "cell_type": "code",
   "execution_count": 2,
   "id": "2d1cae14-78bf-4aef-ac58-82fa96b1363c",
   "metadata": {},
   "outputs": [
    {
     "data": {
      "text/plain": [
       "'/Users/urmebose/Desktop/People/Nuro/hr.csv'"
      ]
     },
     "execution_count": 2,
     "metadata": {},
     "output_type": "execute_result"
    }
   ],
   "source": [
    "import pandas as pd\n",
    "\n",
    "# Load the txt file using ';' as delimiter\n",
    "file_path = '/Users/urmebose/Desktop/People/Nuro/hr.txt'\n",
    "df = pd.read_csv(file_path, delimiter=';')\n",
    "\n",
    "# Save the dataframe to a CSV file\n",
    "csv_file_path = '/Users/urmebose/Desktop/People/Nuro/hr.csv'\n",
    "df.to_csv(csv_file_path, index=False)\n",
    "\n",
    "csv_file_path"
   ]
  },
  {
   "cell_type": "code",
   "execution_count": 4,
   "id": "14a8ada0-f7a1-4fb1-ab07-13c1ae0a0a7c",
   "metadata": {},
   "outputs": [
    {
     "data": {
      "text/plain": [
       "'/Users/urmebose/Desktop/People/Nuro/hr_01.csv'"
      ]
     },
     "execution_count": 4,
     "metadata": {},
     "output_type": "execute_result"
    }
   ],
   "source": [
    "import pandas as pd\n",
    "\n",
    "# Load the txt file using ';' as delimiter\n",
    "file_path = '/Users/urmebose/Desktop/People/Nuro/hr_01.txt'\n",
    "df = pd.read_csv(file_path, delimiter=';')\n",
    "\n",
    "# Save the dataframe to a CSV file\n",
    "csv_file_path = '/Users/urmebose/Desktop/People/Nuro/hr_01.csv'\n",
    "df.to_csv(csv_file_path, index=False)\n",
    "\n",
    "csv_file_path"
   ]
  },
  {
   "cell_type": "code",
   "execution_count": 6,
   "id": "4da28eb8-3d63-49d8-835e-fbf6d2796130",
   "metadata": {},
   "outputs": [
    {
     "data": {
      "text/plain": [
       "'/Users/urmebose/Desktop/People/Nuro/hr_02.csv'"
      ]
     },
     "execution_count": 6,
     "metadata": {},
     "output_type": "execute_result"
    }
   ],
   "source": [
    "import pandas as pd\n",
    "\n",
    "# Load the txt file using ';' as delimiter\n",
    "file_path = '/Users/urmebose/Desktop/People/Nuro/hr_02.txt'\n",
    "df = pd.read_csv(file_path, delimiter=';')\n",
    "\n",
    "# Save the dataframe to a CSV file\n",
    "csv_file_path = '/Users/urmebose/Desktop/People/Nuro/hr_02.csv'\n",
    "df.to_csv(csv_file_path, index=False)\n",
    "\n",
    "csv_file_path"
   ]
  },
  {
   "cell_type": "code",
   "execution_count": 8,
   "id": "b100977d-19df-43f1-9559-d8d9815e531f",
   "metadata": {},
   "outputs": [
    {
     "data": {
      "text/plain": [
       "'/Users/urmebose/Desktop/People/Nuro/hr_03.csv'"
      ]
     },
     "execution_count": 8,
     "metadata": {},
     "output_type": "execute_result"
    }
   ],
   "source": [
    "import pandas as pd\n",
    "\n",
    "# Load the txt file using ';' as delimiter\n",
    "file_path = '/Users/urmebose/Desktop/People/Nuro/hr_03.txt'\n",
    "df = pd.read_csv(file_path, delimiter=';')\n",
    "\n",
    "# Save the dataframe to a CSV file\n",
    "csv_file_path = '/Users/urmebose/Desktop/People/Nuro/hr_03.csv'\n",
    "df.to_csv(csv_file_path, index=False)\n",
    "\n",
    "csv_file_path"
   ]
  },
  {
   "cell_type": "code",
   "execution_count": 10,
   "id": "127d676f-bc31-4518-b223-7de3195c7172",
   "metadata": {},
   "outputs": [
    {
     "data": {
      "text/plain": [
       "'/Users/urmebose/Desktop/People/Nuro/ibi.csv'"
      ]
     },
     "execution_count": 10,
     "metadata": {},
     "output_type": "execute_result"
    }
   ],
   "source": [
    "import pandas as pd\n",
    "\n",
    "# Load the txt file using ';' as delimiter\n",
    "file_path = '/Users/urmebose/Desktop/People/Nuro/ibi.txt'\n",
    "df = pd.read_csv(file_path, delimiter=';')\n",
    "\n",
    "# Save the dataframe to a CSV file\n",
    "csv_file_path = '/Users/urmebose/Desktop/People/Nuro/ibi.csv'\n",
    "df.to_csv(csv_file_path, index=False)\n",
    "\n",
    "csv_file_path"
   ]
  },
  {
   "cell_type": "code",
   "execution_count": 12,
   "id": "9be74ecd-6214-4a1a-9aa2-4e67066a0223",
   "metadata": {},
   "outputs": [
    {
     "data": {
      "text/plain": [
       "'/Users/urmebose/Desktop/People/Nuro/ibi_01.csv'"
      ]
     },
     "execution_count": 12,
     "metadata": {},
     "output_type": "execute_result"
    }
   ],
   "source": [
    "import pandas as pd\n",
    "\n",
    "# Load the txt file using ';' as delimiter\n",
    "file_path = '/Users/urmebose/Desktop/People/Nuro/ibi_01.txt'\n",
    "df = pd.read_csv(file_path, delimiter=';')\n",
    "\n",
    "# Save the dataframe to a CSV file\n",
    "csv_file_path = '/Users/urmebose/Desktop/People/Nuro/ibi_01.csv'\n",
    "df.to_csv(csv_file_path, index=False)\n",
    "\n",
    "csv_file_path"
   ]
  },
  {
   "cell_type": "code",
   "execution_count": 14,
   "id": "b056e60d-77c0-4fd1-b33e-74e28cce7a99",
   "metadata": {},
   "outputs": [
    {
     "data": {
      "text/plain": [
       "'/Users/urmebose/Desktop/People/Nuro/ibi_02.csv'"
      ]
     },
     "execution_count": 14,
     "metadata": {},
     "output_type": "execute_result"
    }
   ],
   "source": [
    "import pandas as pd\n",
    "\n",
    "# Load the txt file using ';' as delimiter\n",
    "file_path = '/Users/urmebose/Desktop/People/Nuro/ibi_02.txt'\n",
    "df = pd.read_csv(file_path, delimiter=';')\n",
    "\n",
    "# Save the dataframe to a CSV file\n",
    "csv_file_path = '/Users/urmebose/Desktop/People/Nuro/ibi_02.csv'\n",
    "df.to_csv(csv_file_path, index=False)\n",
    "\n",
    "csv_file_path"
   ]
  },
  {
   "cell_type": "code",
   "execution_count": 16,
   "id": "683b9f77-5c4f-46d2-a8f2-269123d437a9",
   "metadata": {},
   "outputs": [
    {
     "data": {
      "text/plain": [
       "'/Users/urmebose/Desktop/People/Nuro/ibi_03.csv'"
      ]
     },
     "execution_count": 16,
     "metadata": {},
     "output_type": "execute_result"
    }
   ],
   "source": [
    "import pandas as pd\n",
    "\n",
    "# Load the txt file using ';' as delimiter\n",
    "file_path = '/Users/urmebose/Desktop/People/Nuro/ibi_03.txt'\n",
    "df = pd.read_csv(file_path, delimiter=';')\n",
    "\n",
    "# Save the dataframe to a CSV file\n",
    "csv_file_path = '/Users/urmebose/Desktop/People/Nuro/ibi_03.csv'\n",
    "df.to_csv(csv_file_path, index=False)\n",
    "\n",
    "csv_file_path"
   ]
  },
  {
   "cell_type": "code",
   "execution_count": 18,
   "id": "90b59a53-e30d-4137-916d-08b66f3d06e6",
   "metadata": {},
   "outputs": [
    {
     "data": {
      "text/plain": [
       "'/Users/urmebose/Desktop/People/Nuro/sed.csv'"
      ]
     },
     "execution_count": 18,
     "metadata": {},
     "output_type": "execute_result"
    }
   ],
   "source": [
    "import pandas as pd\n",
    "\n",
    "# Load the txt file using ';' as delimiter\n",
    "file_path = '/Users/urmebose/Desktop/People/Nuro/sed.txt'\n",
    "df = pd.read_csv(file_path, delimiter=';')\n",
    "\n",
    "# Save the dataframe to a CSV file\n",
    "csv_file_path = '/Users/urmebose/Desktop/People/Nuro/sed.csv'\n",
    "df.to_csv(csv_file_path, index=False)\n",
    "\n",
    "csv_file_path"
   ]
  },
  {
   "cell_type": "code",
   "execution_count": 20,
   "id": "3885999c-d149-4689-bd63-2f692d6a689a",
   "metadata": {},
   "outputs": [
    {
     "data": {
      "text/plain": [
       "'/Users/urmebose/Desktop/People/Nuro/sed_01.csv'"
      ]
     },
     "execution_count": 20,
     "metadata": {},
     "output_type": "execute_result"
    }
   ],
   "source": [
    "import pandas as pd\n",
    "\n",
    "# Load the txt file using ';' as delimiter\n",
    "file_path = '/Users/urmebose/Desktop/People/Nuro/sed_01.txt'\n",
    "df = pd.read_csv(file_path, delimiter=';')\n",
    "\n",
    "# Save the dataframe to a CSV file\n",
    "csv_file_path = '/Users/urmebose/Desktop/People/Nuro/sed_01.csv'\n",
    "df.to_csv(csv_file_path, index=False)\n",
    "\n",
    "csv_file_path"
   ]
  },
  {
   "cell_type": "code",
   "execution_count": 22,
   "id": "e68c8763-e49c-4282-9e72-f24a9c8f6ff5",
   "metadata": {},
   "outputs": [
    {
     "data": {
      "text/plain": [
       "'/Users/urmebose/Desktop/People/Nuro/sed_02.csv'"
      ]
     },
     "execution_count": 22,
     "metadata": {},
     "output_type": "execute_result"
    }
   ],
   "source": [
    "import pandas as pd\n",
    "\n",
    "# Load the txt file using ';' as delimiter\n",
    "file_path = '/Users/urmebose/Desktop/People/Nuro/sed_02.txt'\n",
    "df = pd.read_csv(file_path, delimiter=';')\n",
    "\n",
    "# Save the dataframe to a CSV file\n",
    "csv_file_path = '/Users/urmebose/Desktop/People/Nuro/sed_02.csv'\n",
    "df.to_csv(csv_file_path, index=False)\n",
    "\n",
    "csv_file_path"
   ]
  },
  {
   "cell_type": "code",
   "execution_count": 24,
   "id": "e36ed587-ffe5-4430-97f7-3d2a949ab064",
   "metadata": {},
   "outputs": [
    {
     "data": {
      "text/plain": [
       "'/Users/urmebose/Desktop/People/Nuro/sed_03.csv'"
      ]
     },
     "execution_count": 24,
     "metadata": {},
     "output_type": "execute_result"
    }
   ],
   "source": [
    "import pandas as pd\n",
    "\n",
    "# Load the txt file using ';' as delimiter\n",
    "file_path = '/Users/urmebose/Desktop/People/Nuro/sed_03.txt'\n",
    "df = pd.read_csv(file_path, delimiter=';')\n",
    "\n",
    "# Save the dataframe to a CSV file\n",
    "csv_file_path = '/Users/urmebose/Desktop/People/Nuro/sed_03.csv'\n",
    "df.to_csv(csv_file_path, index=False)\n",
    "\n",
    "csv_file_path"
   ]
  },
  {
   "cell_type": "code",
   "execution_count": 29,
   "id": "070320ae-b287-485b-8a88-d202460949ca",
   "metadata": {},
   "outputs": [
    {
     "name": "stdout",
     "output_type": "stream",
     "text": [
      "File saved successfully to /Users/urmebose/Desktop/People/Nuro/sed_fix_01.csv\n"
     ]
    }
   ],
   "source": [
    "import pandas as pd\n",
    "import numpy as np\n",
    "\n",
    "# Load the data from the provided CSV files\n",
    "sed_df = pd.read_csv('/Users/urmebose/Desktop/People/Nuro/sed_01.csv')\n",
    "psychometric_df = pd.read_csv('/Users/urmebose/Desktop/People/Nuro/Psychometric_Test_Results_01.csv')\n",
    "\n",
    "# Descriptive variable names\n",
    "sed_df.rename(columns={\n",
    "    'gazeDir.x': 'gaze_x',\n",
    "    'gazeDir.y': 'gaze_y',\n",
    "    'gazeDir.z': 'gaze_z'\n",
    "}, inplace=True)\n",
    "\n",
    "# Validate data\n",
    "if sed_df[['reltime', 'gaze_x', 'gaze_y', 'gaze_z']].isnull().any().any():\n",
    "    raise ValueError(\"Input data contains missing values. Please clean the data and try again.\")\n",
    "\n",
    "# Define a threshold for gaze stability\n",
    "gaze_threshold = 0.01  #Pupil Labs Core device characteristics\n",
    "\n",
    "# Calculate the difference in gaze direction between consecutive samples\n",
    "sed_df['gaze_diff'] = np.sqrt((sed_df['gaze_x'].diff() ** 2) +\n",
    "                              (sed_df['gaze_y'].diff() ** 2) +\n",
    "                              (sed_df['gaze_z'].diff() ** 2))\n",
    "\n",
    "# Identify fixation points based on the threshold\n",
    "sed_df['fixation'] = sed_df['gaze_diff'] < gaze_threshold\n",
    "\n",
    "# Label each fixation with a unique ID\n",
    "sed_df['fixation_id'] = (sed_df['fixation'] != sed_df['fixation'].shift()).cumsum()\n",
    "\n",
    "# Filter only fixation points\n",
    "fixation_df = sed_df[sed_df['fixation']]\n",
    "\n",
    "# Calculate the duration of each fixation\n",
    "fixation_duration = fixation_df.groupby('fixation_id')['reltime'].agg(['min', 'max'])\n",
    "fixation_duration['duration'] = fixation_duration['max'] - fixation_duration['min']\n",
    "\n",
    "fixation_duration = fixation_duration[['duration']]\n",
    "\n",
    "# Merge fixation durations with the original sed dataframe\n",
    "sed_df = sed_df.merge(fixation_duration, left_on='fixation_id', right_index=True, how='left')\n",
    "\n",
    "# Save the combined dataframe with fixation duration to a new CSV file\n",
    "output_path = '/Users/urmebose/Desktop/People/Nuro/sed_fix_01.csv'\n",
    "sed_df.to_csv(output_path, index=False)\n",
    "\n",
    "print(f\"File saved successfully to {output_path}\")"
   ]
  },
  {
   "cell_type": "code",
   "execution_count": 31,
   "id": "0bf1fe6a-2b34-45f3-9bf5-61814b7c9377",
   "metadata": {},
   "outputs": [
    {
     "name": "stdout",
     "output_type": "stream",
     "text": [
      "File saved successfully to /Users/urmebose/Desktop/People/Nuro/sed_fix_02.csv\n"
     ]
    }
   ],
   "source": [
    "import pandas as pd\n",
    "import numpy as np\n",
    "\n",
    "# Load the data from the provided CSV files\n",
    "sed_df = pd.read_csv('/Users/urmebose/Desktop/People/Nuro/sed_02.csv')\n",
    "psychometric_df = pd.read_csv('/Users/urmebose/Desktop/People/Nuro/Psychometric_Test_Results_02.csv')\n",
    "\n",
    "# Descriptive variable names\n",
    "sed_df.rename(columns={\n",
    "    'gazeDir.x': 'gaze_x',\n",
    "    'gazeDir.y': 'gaze_y',\n",
    "    'gazeDir.z': 'gaze_z'\n",
    "}, inplace=True)\n",
    "\n",
    "# Validate data\n",
    "if sed_df[['reltime', 'gaze_x', 'gaze_y', 'gaze_z']].isnull().any().any():\n",
    "    raise ValueError(\"Input data contains missing values. Please clean the data and try again.\")\n",
    "\n",
    "# Define a threshold for gaze stability\n",
    "gaze_threshold = 0.01  #Pupil Labs Core device characteristics\n",
    "\n",
    "# Calculate the difference in gaze direction between consecutive samples\n",
    "sed_df['gaze_diff'] = np.sqrt((sed_df['gaze_x'].diff() ** 2) +\n",
    "                              (sed_df['gaze_y'].diff() ** 2) +\n",
    "                              (sed_df['gaze_z'].diff() ** 2))\n",
    "\n",
    "# Identify fixation points based on the threshold\n",
    "sed_df['fixation'] = sed_df['gaze_diff'] < gaze_threshold\n",
    "\n",
    "# Label each fixation with a unique ID\n",
    "sed_df['fixation_id'] = (sed_df['fixation'] != sed_df['fixation'].shift()).cumsum()\n",
    "\n",
    "# Filter only fixation points\n",
    "fixation_df = sed_df[sed_df['fixation']]\n",
    "\n",
    "# Calculate the duration of each fixation\n",
    "fixation_duration = fixation_df.groupby('fixation_id')['reltime'].agg(['min', 'max'])\n",
    "fixation_duration['duration'] = fixation_duration['max'] - fixation_duration['min']\n",
    "\n",
    "fixation_duration = fixation_duration[['duration']]\n",
    "\n",
    "# Merge fixation durations with the original sed dataframe\n",
    "sed_df = sed_df.merge(fixation_duration, left_on='fixation_id', right_index=True, how='left')\n",
    "\n",
    "# Save the combined dataframe with fixation duration to a new CSV file\n",
    "output_path = '/Users/urmebose/Desktop/People/Nuro/sed_fix_02.csv'\n",
    "sed_df.to_csv(output_path, index=False)\n",
    "\n",
    "print(f\"File saved successfully to {output_path}\")"
   ]
  },
  {
   "cell_type": "code",
   "execution_count": 33,
   "id": "bcb734b9-6537-4487-a85d-60c76a97f8e4",
   "metadata": {},
   "outputs": [
    {
     "name": "stdout",
     "output_type": "stream",
     "text": [
      "File saved successfully to /Users/urmebose/Desktop/People/Nuro/sed_fix_03.csv\n"
     ]
    }
   ],
   "source": [
    "import pandas as pd\n",
    "import numpy as np\n",
    "\n",
    "# Load the data from the provided CSV files\n",
    "sed_df = pd.read_csv('/Users/urmebose/Desktop/People/Nuro/sed_03.csv')\n",
    "psychometric_df = pd.read_csv('/Users/urmebose/Desktop/People/Nuro/Psychometric_Test_Results_03.csv')\n",
    "\n",
    "# Descriptive variable names\n",
    "sed_df.rename(columns={\n",
    "    'gazeDir.x': 'gaze_x',\n",
    "    'gazeDir.y': 'gaze_y',\n",
    "    'gazeDir.z': 'gaze_z'\n",
    "}, inplace=True)\n",
    "\n",
    "# Validate data\n",
    "if sed_df[['reltime', 'gaze_x', 'gaze_y', 'gaze_z']].isnull().any().any():\n",
    "    raise ValueError(\"Input data contains missing values. Please clean the data and try again.\")\n",
    "\n",
    "# Define a threshold for gaze stability\n",
    "gaze_threshold = 0.01  #Pupil Labs Core device characteristics\n",
    "\n",
    "# Calculate the difference in gaze direction between consecutive samples\n",
    "sed_df['gaze_diff'] = np.sqrt((sed_df['gaze_x'].diff() ** 2) +\n",
    "                              (sed_df['gaze_y'].diff() ** 2) +\n",
    "                              (sed_df['gaze_z'].diff() ** 2))\n",
    "\n",
    "# Identify fixation points based on the threshold\n",
    "sed_df['fixation'] = sed_df['gaze_diff'] < gaze_threshold\n",
    "\n",
    "# Label each fixation with a unique ID\n",
    "sed_df['fixation_id'] = (sed_df['fixation'] != sed_df['fixation'].shift()).cumsum()\n",
    "\n",
    "# Filter only fixation points\n",
    "fixation_df = sed_df[sed_df['fixation']]\n",
    "\n",
    "# Calculate the duration of each fixation\n",
    "fixation_duration = fixation_df.groupby('fixation_id')['reltime'].agg(['min', 'max'])\n",
    "fixation_duration['duration'] = fixation_duration['max'] - fixation_duration['min']\n",
    "\n",
    "fixation_duration = fixation_duration[['duration']]\n",
    "\n",
    "# Merge fixation durations with the original sed dataframe\n",
    "sed_df = sed_df.merge(fixation_duration, left_on='fixation_id', right_index=True, how='left')\n",
    "\n",
    "# Save the combined dataframe with fixation duration to a new CSV file\n",
    "output_path = '/Users/urmebose/Desktop/People/Nuro/sed_fix_03.csv'\n",
    "sed_df.to_csv(output_path, index=False)\n",
    "\n",
    "print(f\"File saved successfully to {output_path}\")"
   ]
  },
  {
   "cell_type": "code",
   "execution_count": null,
   "id": "de055a9f-8e9a-4fb4-ab7e-0e0d1e68ed7a",
   "metadata": {},
   "outputs": [],
   "source": []
  }
 ],
 "metadata": {
  "kernelspec": {
   "display_name": "pdf_processing",
   "language": "python",
   "name": "pdf_processing"
  },
  "language_info": {
   "codemirror_mode": {
    "name": "ipython",
    "version": 3
   },
   "file_extension": ".py",
   "mimetype": "text/x-python",
   "name": "python",
   "nbconvert_exporter": "python",
   "pygments_lexer": "ipython3",
   "version": "3.9.21"
  }
 },
 "nbformat": 4,
 "nbformat_minor": 5
}
